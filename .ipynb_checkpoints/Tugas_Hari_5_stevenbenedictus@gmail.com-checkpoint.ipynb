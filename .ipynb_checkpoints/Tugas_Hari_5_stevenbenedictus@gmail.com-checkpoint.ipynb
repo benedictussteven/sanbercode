{
 "cells": [
  {
   "cell_type": "markdown",
   "metadata": {
    "id": "fyoYEJKw6qoo"
   },
   "source": [
    "# Soal 1: Law of Large Numbers\n",
    "\n",
    "Menurut Law of Large Numbers (LLN) jika kita mengulang suatu percobaan, semakin banyak kita mengulang maka rata-rata hasil yang di dapat akan mendekati apa yang kita perkirakan.\n",
    "\n",
    "![alt text](https://wikimedia.org/api/rest_v1/media/math/render/svg/e8dff3831b1e5b6f0e187c733583ab8d02574363)\n",
    "\n",
    "Sebagai caontoh, sebuah dadu dengan 6-sisi akan menghasilkan angka 1, 2, 3, 4, 5, atau 6 dengan probabilitas yang sama untuk masing-masing angkanya. Maka, perkiraan rata-rata hasil yang akan di dapat adalah (1+2+3+4+5+6)/6 = 3.5\n",
    "Menurut LLN, semakin banyak kita mengocok dadu, maka rata-rata hasil yang didapatkan akan semakin mendekati nilai perkiraan rata-ratanya yaitu 3.5\n",
    "\n",
    "![alt text](https://upload.wikimedia.org/wikipedia/commons/thumb/c/c9/Lawoflargenumbers.svg/400px-Lawoflargenumbers.svg.png)\n",
    "\n",
    "Begitu juga jika kita memiliki sebuah dataset berisi angka-angka acak dengan nilai rata-rata(μ) = 0 dan standar deviasi(σ) = 1, maka angka-angka tersebut akan terdistribusi secara normal dengan semakin banyaknya isi dari dataset tersebut.\n",
    "\n",
    "![alt text](https://img.favpng.com/9/9/7/standard-deviation-normal-distribution-mean-statistics-png-favpng-5cX7qC8aqmp0pQthmW3nSVj9a.jpg)\n",
    "\n",
    "Dari gambar di atas, maka semakin banyaknya isi dari dataset, jumlah angka-angka pada dataset yang memiliki nilai -1 < angka < 1 akan semakin mendekati 68.2%.\n",
    "Lengkapi code dibawah ini untuk membuktikan hal tersebut.\n"
   ]
  },
  {
   "cell_type": "code",
   "execution_count": 4,
   "metadata": {
    "colab": {
     "base_uri": "https://localhost:8080/"
    },
    "executionInfo": {
     "elapsed": 750,
     "status": "ok",
     "timestamp": 1610722869148,
     "user": {
      "displayName": "Benedictus Steven",
      "photoUrl": "https://lh3.googleusercontent.com/a-/AOh14GiuOtMcCt1mfibKaHFZ9RDz0nN3TC17MD-JdjtWzw=s64",
      "userId": "16644399497539686920"
     },
     "user_tz": -420
    },
    "id": "SkYQ0sD76qpA",
    "outputId": "f17dcd63-b2ec-44ce-f629-5a87962f0438"
   },
   "outputs": [
    {
     "name": "stdout",
     "output_type": "stream",
     "text": [
      "[  -2.94700345   -1.32605388   -2.22758024   14.96468153   -6.75362229\n",
      "    2.82707961    1.17197089    1.40638758 -174.27564094   10.56623007\n",
      "    2.90494243  -11.66699868   -2.03216767   -5.09077446   -2.31554981]\n"
     ]
    }
   ],
   "source": [
    "import numpy as np\n",
    "from numpy.random import randn\n",
    "\n",
    "N =  randn(15)                       #Tentukan ukuran sampel\n",
    "counter = 0                 #Untuk mereset perhitungan\n",
    "\n",
    "for i in N:               #Mulai iterasi dan tambahkan nilai counter jika memenuhi syarat\n",
    "  if (1<=i<=6):\n",
    "    counter = counter+1\n",
    "\n",
    "\n",
    "hasil = counter/N           #Hitung nilai persentase jumlahnya\n",
    "print(hasil)"
   ]
  },
  {
   "cell_type": "markdown",
   "metadata": {
    "id": "lbGK0ue5y76R"
   },
   "source": [
    "---"
   ]
  },
  {
   "cell_type": "markdown",
   "metadata": {
    "id": "X0UMLFYQy-_B"
   },
   "source": [
    "# Soal 2: Menghitung nilai-nilai dari statistika deskriptif"
   ]
  },
  {
   "cell_type": "code",
   "execution_count": 5,
   "metadata": {
    "executionInfo": {
     "elapsed": 788,
     "status": "ok",
     "timestamp": 1610721632798,
     "user": {
      "displayName": "Benedictus Steven",
      "photoUrl": "https://lh3.googleusercontent.com/a-/AOh14GiuOtMcCt1mfibKaHFZ9RDz0nN3TC17MD-JdjtWzw=s64",
      "userId": "16644399497539686920"
     },
     "user_tz": -420
    },
    "id": "xBo8ifmly7Kx"
   },
   "outputs": [],
   "source": [
    "import statistics\n",
    "import numpy as np\n",
    "import scipy.stats\n",
    "\n",
    "#Berikut adalah data dari breast cancer dataset, area dan status mematikan atau tidaknya\n",
    "\n",
    "area = [1001. , 1326. , 1203. ,  386.1, 1297. ,  477.1, 1040. ,  577.9, 519.8,  475.9,  797.8,  781. , 1123. ,  782.7,  578.3,  658.8, 684.5,  798.8, 1260. ,  566.3,  520. ,  273.9,  704.4, 1404. ,\n",
    "        904.6,  912.7,  644.8, 1094. ,  732.4,  955.1, 1088. ,  440.6, 899.3, 1162. ,  807.2,  869.5,  633. ,  523.8,  698.8,  559.2, 563. ,  371.1, 1104. ,  545.2,  531.5, 1076. ,  201.9,  534.6,\n",
    "        449.3,  561. ,  427.9,  571.8,  437.6, 1033. ,  712.8,  409. , 1152. ,  656.9,  527.2,  224.5,  311.9,  221.8,  645.7,  260.9, 499. ,  668.3,  269.4,  394.1,  250.5,  502.5, 1130. ,  244. ,\n",
    "        929.4,  584.1,  470.9,  817.7,  559.2, 1006. , 1245. ,  506.3, 401.5,  520. , 1878. , 1132. ,  443.3, 1075. ,  648.2, 1076. , 466.1,  651.9,  662.7,  728.2,  551.7,  555.1,  705.6, 1264. ,\n",
    "        451.1,  294.5,  412.6,  642.5,  582.7,  143.5,  458.7,  298.3, 336.1,  530.2,  412.5,  466.7, 1509. ,  396.5,  290.2,  480.4, 629.9,  334.2,  230.9,  438.6,  245.2,  682.5,  782.6,  982. ,\n",
    "        403.3, 1077. , 1761. ,  640.7,  553.5,  588.7,  572.6, 1138. , 674.5, 1192. ,  455.8,  748.9,  809.8,  761.7, 1075. ,  506.3, 423.6,  399.8,  678.1,  384.8,  288.5,  813. ,  398. ,  512.2,\n",
    "        355.3,  432.8,  432. ,  689.5,  640.1,  585. ,  519.4,  203.9, 300.2,  381.9,  538.9,  460.3,  963.7,  880.2,  448.6,  366.8, 419.8, 1157. , 1214. ,  464.5, 1686. ,  690.2,  357.6,  886.3,\n",
    "        984.6,  685.9,  464.1,  565.4,  736.9,  372.7,  349.6,  227.2, 302.4,  832.9,  526.4,  508.8, 2250. , 1311. ,  766.6,  402. , 710.6,  317.5, 1041. ,  420.3,  428.9,  463.7,  609.9,  507.4,\n",
    "        288.1,  477.4,  671.4,  516.4,  588.9, 1024. , 1148. ,  642.7, 461. ,  951.6, 1685. ,  597.8,  481.9,  716.6,  295.4,  904.3, 529.4,  725.5, 1290. ,  428. , 2499. ,  948. ,  610.7,  578.9,\n",
    "        432.2,  321.2, 1230. , 1223. ,  568.9,  561.3,  313.1,  761.3, 546.4,  641.2,  329.6,  684.5,  496.4,  503.2,  895. ,  395.7, 386.8, 1319. ,  279.6,  603.4, 1670. , 1306. ,  623.9,  920.6,\n",
    "        575.3,  476.5,  389.4,  590. , 1155. ,  337.7,  541.6,  512.2, 347. ,  406.3, 1364. ,  407.4, 1206. ,  928.2, 1169. ,  602.4, 1207. ,  713.3,  773.5,  744.9, 1288. ,  933.1,  947.8,  758.6,\n",
    "        928.3, 1419. ,  346.4,  561. ,  512.2,  344.9,  632.6,  388. , 1491. ,  289.9,  998.9,  435.6,  396.6, 1102. ,  572.3,  587.4, 1138. ,  427.3, 1145. ,  805.1,  516.6,  489. ,  441. ,  515.9,\n",
    "        394.1,  396. ,  651. ,  687.3,  513.7,  432.7,  492.1,  582.7, 363.7,  431.1,  633.1,  334.2, 1217. ,  471.3, 1247. ,  334.3, 403.1,  417.2,  537.3,  246.3,  566.2,  530.6,  418.7,  664.9,\n",
    "        504.1,  409.1,  221.2,  481.6,  461.4, 1027. ,  244.5,  477.3, 324.2, 1274. ,  504.8, 1264. ,  457.9,  489.9,  616.5,  446. , 813.7,  826.8,  793.2,  514. ,  387.3,  390. ,  464.4,  918.6,\n",
    "        514.3, 1092. ,  310.8, 1747. ,  641.2,  280.5,  373.9, 1194. , 420.3,  321.6,  445.3,  668.7,  402.7,  426.7,  421. ,  758.6, 2010. ,  716.6,  384.6,  485.8,  512. ,  593.7,  241. ,  278.6,\n",
    "        491.9,  546.1,  496.6,  838.1,  552.4, 1293. , 1234. ,  458.4, 1546. , 1482. ,  840.4,  711.8, 1386. , 1335. ,  579.1,  788.5, 338.3,  562.1,  580.6,  361.6,  386.3,  372.7,  447.8,  462.9,\n",
    "        541.8,  664.7,  462. ,  596.6,  392. , 1174. ,  321.6,  234.3, 744.7, 1407. ,  446.2,  609.1,  558.1,  508.3,  378.2,  431.9, 994. ,  442.7,  525.2,  507.6,  469.1,  370. ,  800. ,  514.5,\n",
    "        991.7,  466.1,  399.8,  373.2,  268.8,  693.7,  719.5,  433.8, 271.2,  803.1,  495. ,  380.3,  409.7,  656.1,  408.2,  575.3, 289.7,  307.3,  333.6,  359.9,  381.1,  501.3,  685. ,  467.8,\n",
    "       1250. , 1110. ,  673.7,  599.5,  509.2,  611.2,  592.6,  606.5, 371.5,  928.8,  585.9,  340.9,  990. ,  441.3,  981.6,  674.8, 659.7, 1384. ,  432. , 1191. ,  442.5,  644.2,  492.9,  557.2,\n",
    "        415.1,  537.9,  520.2,  290.9,  930.9, 2501. ,  646.1,  412.7, 537.3,  542.9,  536.9,  286.3,  980.5,  408.8,  289.1,  449.9, 686.9,  465.4,  358.9,  506.9,  618.4,  599.4,  404.9,  815.8,\n",
    "        455.3,  602.9,  546.3,  571.1,  747.2,  476.7,  666. , 1167. , 420.5,  857.6,  466.5,  992.1, 1007. ,  477.3,  538.7,  680.9, 485.6,  480.1, 1068. , 1320. ,  689.4,  595.9,  476.3, 1682. ,\n",
    "        248.7,  272.5,  453.1,  366.5,  819.8,  731.3,  426. ,  680.7, 556.7,  658.8,  701.9,  391.2, 1052. , 1214. ,  493.1,  493.8, 257.8, 1841. ,  388.1,  571. ,  293.2,  221.3,  551.1,  468.5,\n",
    "        594.2,  445.2,  422.9,  416.2,  575.5, 1299. ,  365.6, 1308. , 629.8,  406.4,  178.8,  170.4,  402.9,  656.4,  668.6,  538.4, 584.8,  573.2,  324.9,  320.8,  285.7,  361.6,  360.5,  378.4,\n",
    "        507.9,  264. ,  514.3,  321.4,  311.7,  271.3,  657.1,  403.5, 600.4,  386. ,  716.9, 1347. , 1479. , 1261. ,  858.1, 1265. , 181. ]\n",
    "\n",
    "malignant = [0., 0., 0., 0., 0., 0., 0., 0., 0., 0., 0., 0., 0., 0., 0., 0., 0.,\n",
    "       0., 0., 1., 1., 1., 0., 0., 0., 0., 0., 0., 0., 0., 0., 0., 0., 0.,\n",
    "       0., 0., 0., 1., 0., 0., 0., 0., 0., 0., 0., 0., 1., 0., 1., 1., 1.,\n",
    "       1., 1., 0., 0., 1., 0., 0., 1., 1., 1., 1., 0., 1., 0., 0., 1., 1.,\n",
    "       1., 1., 0., 1., 0., 0., 1., 0., 1., 0., 0., 1., 1., 1., 0., 0., 1.,\n",
    "       0., 0., 0., 1., 1., 1., 0., 1., 1., 0., 0., 1., 1., 1., 0., 0., 1.,\n",
    "       1., 1., 1., 0., 1., 1., 0., 1., 1., 1., 1., 1., 1., 1., 1., 0., 0.,\n",
    "       0., 1., 0., 0., 1., 1., 1., 0., 0., 1., 0., 1., 0., 0., 1., 0., 0.,\n",
    "       1., 1., 0., 1., 1., 0., 1., 1., 1., 1., 0., 1., 1., 1., 1., 1., 1.,\n",
    "       1., 1., 1., 0., 1., 1., 1., 1., 0., 0., 1., 0., 1., 1., 0., 0., 1.,\n",
    "       1., 0., 0., 1., 1., 1., 1., 0., 1., 1., 0., 0., 0., 1., 0., 1., 0.,\n",
    "       1., 1., 1., 0., 1., 1., 0., 0., 1., 0., 0., 0., 0., 1., 0., 0., 0.,\n",
    "       1., 0., 1., 0., 1., 1., 0., 1., 0., 0., 0., 0., 1., 1., 0., 0., 1.,\n",
    "       1., 1., 0., 1., 1., 1., 1., 1., 0., 0., 1., 1., 0., 1., 1., 0., 0.,\n",
    "       1., 0., 1., 1., 1., 1., 0., 1., 1., 1., 1., 1., 0., 1., 0., 0., 0.,\n",
    "       0., 0., 0., 0., 0., 0., 0., 0., 0., 0., 0., 1., 1., 1., 1., 1., 1.,\n",
    "       0., 1., 0., 1., 1., 0., 1., 1., 0., 1., 0., 0., 1., 1., 1., 1., 1.,\n",
    "       1., 1., 1., 1., 1., 1., 1., 1., 0., 1., 1., 0., 1., 0., 1., 1., 1.,\n",
    "       1., 1., 1., 1., 1., 1., 1., 1., 1., 1., 1., 0., 1., 1., 1., 0., 1.,\n",
    "       0., 1., 1., 1., 1., 0., 0., 0., 1., 1., 1., 1., 0., 1., 0., 1., 0.,\n",
    "       1., 1., 1., 0., 1., 1., 1., 1., 1., 1., 1., 0., 0., 0., 1., 1., 1.,\n",
    "       1., 1., 1., 1., 1., 1., 1., 1., 0., 0., 1., 0., 0., 0., 1., 0., 0.,\n",
    "       1., 1., 1., 1., 1., 0., 1., 1., 1., 1., 1., 0., 1., 1., 1., 0., 1.,\n",
    "       1., 0., 0., 1., 1., 1., 1., 1., 1., 0., 1., 1., 1., 1., 1., 1., 1.,\n",
    "       0., 1., 1., 1., 1., 1., 0., 1., 1., 0., 1., 1., 1., 1., 1., 1., 1.,\n",
    "       1., 1., 1., 1., 1., 0., 1., 0., 0., 1., 0., 1., 1., 1., 1., 1., 0.,\n",
    "       1., 1., 0., 1., 0., 1., 1., 0., 1., 0., 1., 1., 1., 1., 1., 1., 1.,\n",
    "       1., 0., 0., 1., 1., 1., 1., 1., 1., 0., 1., 1., 1., 1., 1., 1., 1.,\n",
    "       1., 1., 1., 0., 1., 1., 1., 1., 1., 1., 1., 0., 1., 0., 1., 1., 0.,\n",
    "       1., 1., 1., 1., 1., 0., 0., 1., 0., 1., 0., 1., 1., 1., 1., 1., 0.,\n",
    "       1., 1., 0., 1., 0., 1., 0., 0., 1., 1., 1., 0., 1., 1., 1., 1., 1.,\n",
    "       1., 1., 1., 1., 1., 1., 0., 1., 0., 0., 1., 1., 1., 1., 1., 1., 1.,\n",
    "       1., 1., 1., 1., 1., 1., 1., 1., 1., 1., 1., 1., 1., 1., 1., 1., 1.,\n",
    "       1., 0., 0., 0., 0., 0., 0., 1.]"
   ]
  },
  {
   "cell_type": "code",
   "execution_count": 6,
   "metadata": {
    "colab": {
     "base_uri": "https://localhost:8080/"
    },
    "executionInfo": {
     "elapsed": 841,
     "status": "ok",
     "timestamp": 1610723011987,
     "user": {
      "displayName": "Benedictus Steven",
      "photoUrl": "https://lh3.googleusercontent.com/a-/AOh14GiuOtMcCt1mfibKaHFZ9RDz0nN3TC17MD-JdjtWzw=s64",
      "userId": "16644399497539686920"
     },
     "user_tz": -420
    },
    "id": "zBO3QTCr5v-A",
    "outputId": "d8ebc908-600d-40e9-c65b-eccd309375d1"
   },
   "outputs": [
    {
     "name": "stdout",
     "output_type": "stream",
     "text": [
      "654.8891036906857\n",
      "654.8891036906854\n",
      "654.8891036906855\n",
      "519.0704649372796\n"
     ]
    }
   ],
   "source": [
    "#Hitung nilai mean dari 'area' menggunakan python saja, kemudian menggunakan library yang telah di import\n",
    "\n",
    "mean_python = sum(area) / len(area)\n",
    "print(mean_python)\n",
    "\n",
    "mean_statistics = statistics.mean(area)    #untuk python3.8\n",
    "print(mean_statistics)\n",
    "\n",
    "mean_numpy = np.mean(area)\n",
    "print(mean_numpy)\n",
    "\n",
    "#Hitung nilai harmonic mean menggunakan scipy\n",
    "harmonicmean = scipy.stats.hmean(area)\n",
    "print(harmonicmean)"
   ]
  },
  {
   "cell_type": "markdown",
   "metadata": {
    "id": "9SXG9tE0l4p7"
   },
   "source": [
    "Expected output:\n",
    "\n",
    "\n",
    "```\n",
    "654.8891036906857 \n",
    "654.8891036906854 \n",
    "654.8891036906855 \n",
    "519.0704649372796 \n",
    "```\n",
    "\n",
    "\n"
   ]
  },
  {
   "cell_type": "code",
   "execution_count": 7,
   "metadata": {
    "colab": {
     "base_uri": "https://localhost:8080/"
    },
    "executionInfo": {
     "elapsed": 883,
     "status": "ok",
     "timestamp": 1610723404286,
     "user": {
      "displayName": "Benedictus Steven",
      "photoUrl": "https://lh3.googleusercontent.com/a-/AOh14GiuOtMcCt1mfibKaHFZ9RDz0nN3TC17MD-JdjtWzw=s64",
      "userId": "16644399497539686920"
     },
     "user_tz": -420
    },
    "id": "TQ4lrG_d8FUm",
    "outputId": "756342a8-1f21-48d2-c36a-35de558139e5"
   },
   "outputs": [
    {
     "name": "stdout",
     "output_type": "stream",
     "text": [
      "551.1\n",
      "551.1\n"
     ]
    }
   ],
   "source": [
    "#Hitung median dari 'area' menggunakan python saja dan numpy\n",
    "n = len(area)\n",
    "if n % 2:\n",
    "  median_python = sorted(area)[round(0.5*(n-1))]\n",
    "else:\n",
    "  area_ord, index = sorted(area), round(0.5 * n)\n",
    "  median_python = 0.5 * (area_ord[index-1] + area_ord[index])\n",
    "print(median_python)\n",
    "\n",
    "median_numpy = np.median(area)\n",
    "print(median_numpy)"
   ]
  },
  {
   "cell_type": "markdown",
   "metadata": {
    "id": "2cp_Kbqqmoje"
   },
   "source": [
    "Expected output:\n",
    "\n",
    "\n",
    "```\n",
    "551.1\n",
    "551.1\n",
    "```\n",
    "\n",
    "\n"
   ]
  },
  {
   "cell_type": "code",
   "execution_count": 8,
   "metadata": {
    "colab": {
     "base_uri": "https://localhost:8080/"
    },
    "executionInfo": {
     "elapsed": 768,
     "status": "ok",
     "timestamp": 1610723485076,
     "user": {
      "displayName": "Benedictus Steven",
      "photoUrl": "https://lh3.googleusercontent.com/a-/AOh14GiuOtMcCt1mfibKaHFZ9RDz0nN3TC17MD-JdjtWzw=s64",
      "userId": "16644399497539686920"
     },
     "user_tz": -420
    },
    "id": "Xv0O2rzG99MZ",
    "outputId": "c095a1da-5c86-4618-b9fc-9191dda36a5f"
   },
   "outputs": [
    {
     "name": "stdout",
     "output_type": "stream",
     "text": [
      "ModeResult(mode=array([512.2]), count=array([3]))\n"
     ]
    }
   ],
   "source": [
    "#Hitung Mode dari 'area' menggunakan scipy\n",
    "\n",
    "mode_scipy = scipy.stats.mode(area)\n",
    "print(mode_scipy)"
   ]
  },
  {
   "cell_type": "markdown",
   "metadata": {
    "id": "lhgTLETxm5jI"
   },
   "source": [
    "Expected output:\n",
    "\n",
    "\n",
    "```\n",
    "ModeResult(mode=array([512.2]), count=array([3]))\n",
    "```\n",
    "\n"
   ]
  },
  {
   "cell_type": "code",
   "execution_count": 9,
   "metadata": {
    "colab": {
     "base_uri": "https://localhost:8080/"
    },
    "executionInfo": {
     "elapsed": 966,
     "status": "ok",
     "timestamp": 1610723650836,
     "user": {
      "displayName": "Benedictus Steven",
      "photoUrl": "https://lh3.googleusercontent.com/a-/AOh14GiuOtMcCt1mfibKaHFZ9RDz0nN3TC17MD-JdjtWzw=s64",
      "userId": "16644399497539686920"
     },
     "user_tz": -420
    },
    "id": "SIp6nUJi-TBG",
    "outputId": "7cb11148-48e4-4457-9cbc-cb6604ef3887"
   },
   "outputs": [
    {
     "name": "stdout",
     "output_type": "stream",
     "text": [
      "123843.55431768096\n",
      "123843.55431768115\n",
      "123843.55431768113\n"
     ]
    }
   ],
   "source": [
    "#Hitung variance dari 'area' menggunakan python saja, numpy, dan statistics\n",
    "\n",
    "variance_python = sum((item - mean_python)**2 for item in area) / (n - 1)\n",
    "print(variance_python)\n",
    "\n",
    "variance_numpy = np.var(area, ddof=1)\n",
    "print(variance_numpy)\n",
    "\n",
    "variance_statistics = statistics.variance(area)\n",
    "print(variance_statistics)"
   ]
  },
  {
   "cell_type": "markdown",
   "metadata": {
    "id": "vd0o3W3_nUHe"
   },
   "source": [
    "Expected output:\n",
    "\n",
    "\n",
    "```\n",
    "123843.55431768096\n",
    "123843.55431768115\n",
    "123843.55431768113\n",
    "```\n",
    "\n"
   ]
  },
  {
   "cell_type": "code",
   "execution_count": 10,
   "metadata": {
    "colab": {
     "base_uri": "https://localhost:8080/"
    },
    "executionInfo": {
     "elapsed": 755,
     "status": "ok",
     "timestamp": 1610723718025,
     "user": {
      "displayName": "Benedictus Steven",
      "photoUrl": "https://lh3.googleusercontent.com/a-/AOh14GiuOtMcCt1mfibKaHFZ9RDz0nN3TC17MD-JdjtWzw=s64",
      "userId": "16644399497539686920"
     },
     "user_tz": -420
    },
    "id": "EI1QGCxq-sZJ",
    "outputId": "563e3f47-3770-4137-cd36-51872f3e356e"
   },
   "outputs": [
    {
     "name": "stdout",
     "output_type": "stream",
     "text": [
      "351.9141291816527\n",
      "351.914129181653\n"
     ]
    }
   ],
   "source": [
    "#Hitung standar deviasi dari 'area' menggunakan python saja dan numpy\n",
    "\n",
    "std_python = variance_python ** 0.5\n",
    "print(std_python)\n",
    "\n",
    "std_numpy = np.std(area, ddof=1)\n",
    "print(std_numpy)"
   ]
  },
  {
   "cell_type": "markdown",
   "metadata": {
    "id": "A82DC5gOnk8v"
   },
   "source": [
    "Expected output:\n",
    "\n",
    "\n",
    "```\n",
    "351.9141291816527\n",
    "351.914129181653\n",
    "```\n",
    "\n"
   ]
  },
  {
   "cell_type": "code",
   "execution_count": 11,
   "metadata": {
    "colab": {
     "base_uri": "https://localhost:8080/"
    },
    "executionInfo": {
     "elapsed": 745,
     "status": "ok",
     "timestamp": 1610723824857,
     "user": {
      "displayName": "Benedictus Steven",
      "photoUrl": "https://lh3.googleusercontent.com/a-/AOh14GiuOtMcCt1mfibKaHFZ9RDz0nN3TC17MD-JdjtWzw=s64",
      "userId": "16644399497539686920"
     },
     "user_tz": -420
    },
    "id": "_SesOoaz_EiG",
    "outputId": "82b46421-e479-47dc-b4bb-ff3ab99a71ce"
   },
   "outputs": [
    {
     "name": "stdout",
     "output_type": "stream",
     "text": [
      "1.6457321756240448\n",
      "1.6457321756240424\n"
     ]
    }
   ],
   "source": [
    "#Hitung skewness dari 'area' menggunakan python saja dan scipy\n",
    "\n",
    "skew_python = skew_ = (sum((item - mean_python)**3 for item in area)* n / ((n - 1) * (n - 2) * std_python**3))\n",
    "print(skew_python)\n",
    "\n",
    "skew_scipy = scipy.stats.skew(area, bias=False)\n",
    "print(skew_scipy)"
   ]
  },
  {
   "cell_type": "markdown",
   "metadata": {
    "id": "4jTMC_ydn0l0"
   },
   "source": [
    "Expected output:\n",
    "\n",
    "\n",
    "```\n",
    "1.6457321756240448\n",
    "1.6457321756240424\n",
    "```\n",
    "\n"
   ]
  },
  {
   "cell_type": "code",
   "execution_count": 12,
   "metadata": {
    "colab": {
     "base_uri": "https://localhost:8080/"
    },
    "executionInfo": {
     "elapsed": 745,
     "status": "ok",
     "timestamp": 1610723870294,
     "user": {
      "displayName": "Benedictus Steven",
      "photoUrl": "https://lh3.googleusercontent.com/a-/AOh14GiuOtMcCt1mfibKaHFZ9RDz0nN3TC17MD-JdjtWzw=s64",
      "userId": "16644399497539686920"
     },
     "user_tz": -420
    },
    "id": "VF47KXsJ_bK8",
    "outputId": "5b14d2cb-d3f3-4319-a47a-0ec176a9087f"
   },
   "outputs": [
    {
     "name": "stdout",
     "output_type": "stream",
     "text": [
      "665.8679999999999\n",
      "1131.6799999999998\n"
     ]
    }
   ],
   "source": [
    "#Hitung percentile ke 66 dan 88 dari 'area' menggunakan numpy\n",
    "\n",
    "percentile66 = np.percentile(area, 66)\n",
    "print(percentile66)\n",
    "\n",
    "percentile88 = np.percentile(area, 88)\n",
    "print(percentile88)"
   ]
  },
  {
   "cell_type": "markdown",
   "metadata": {
    "id": "nwbz1HHyozEE"
   },
   "source": [
    "Expected output:\n",
    "\n",
    "\n",
    "```\n",
    "665.8679999999999\n",
    "1131.6799999999998\n",
    "```\n",
    "\n"
   ]
  },
  {
   "cell_type": "code",
   "execution_count": 13,
   "metadata": {
    "colab": {
     "base_uri": "https://localhost:8080/"
    },
    "executionInfo": {
     "elapsed": 730,
     "status": "ok",
     "timestamp": 1610723934335,
     "user": {
      "displayName": "Benedictus Steven",
      "photoUrl": "https://lh3.googleusercontent.com/a-/AOh14GiuOtMcCt1mfibKaHFZ9RDz0nN3TC17MD-JdjtWzw=s64",
      "userId": "16644399497539686920"
     },
     "user_tz": -420
    },
    "id": "o9Y09jIo__3S",
    "outputId": "a11f483d-91e2-4049-c9a8-3339e7de9a78"
   },
   "outputs": [
    {
     "name": "stdout",
     "output_type": "stream",
     "text": [
      "2357.5\n",
      "2357.5\n"
     ]
    }
   ],
   "source": [
    "#Hitung range dari 'area' menggunakan python saja dan numpy\n",
    "\n",
    "range_python = max(area) - min(area)\n",
    "print(range_python)\n",
    "\n",
    "range_numpy = np.ptp(area)\n",
    "print(range_python)"
   ]
  },
  {
   "cell_type": "markdown",
   "metadata": {
    "id": "QYbYxBOBo8rF"
   },
   "source": [
    "Expected output:\n",
    "\n",
    "\n",
    "```\n",
    "2357.5\n",
    "2357.5\n",
    "```\n",
    "\n"
   ]
  },
  {
   "cell_type": "code",
   "execution_count": 14,
   "metadata": {
    "colab": {
     "base_uri": "https://localhost:8080/"
    },
    "executionInfo": {
     "elapsed": 774,
     "status": "ok",
     "timestamp": 1610724159795,
     "user": {
      "displayName": "Benedictus Steven",
      "photoUrl": "https://lh3.googleusercontent.com/a-/AOh14GiuOtMcCt1mfibKaHFZ9RDz0nN3TC17MD-JdjtWzw=s64",
      "userId": "16644399497539686920"
     },
     "user_tz": -420
    },
    "id": "og5IEgrgARXE",
    "outputId": "06f17c1b-12bf-495a-e2df-3e93dda226c4"
   },
   "outputs": [
    {
     "name": "stdout",
     "output_type": "stream",
     "text": [
      "-120.73822186192733\n",
      "[[ 1.23843554e+05 -1.20738222e+02]\n",
      " [-1.20738222e+02  2.34176589e-01]]\n"
     ]
    }
   ],
   "source": [
    "#Hitung covariance dari 'area' dan 'malignant' menggunakan python saja dan numpy\n",
    "mean_malignant = sum(malignant) / len(malignant)\n",
    "cov_python =(sum((area[k] - mean_python) * (malignant[k] - mean_malignant) for k in range(n)) / (n - 1))\n",
    "print(cov_python)\n",
    "\n",
    "cov_numpy = np.cov(area, malignant)\n",
    "print(cov_numpy)"
   ]
  },
  {
   "cell_type": "markdown",
   "metadata": {
    "id": "eIOMvJ8TpHHp"
   },
   "source": [
    "Expexted output:\n",
    "\n",
    "```\n",
    "-120.73822186192733\n",
    "[[ 1.23843554e+05 -1.20738222e+02]\n",
    " [-1.20738222e+02  2.34176589e-01]]\n",
    "```\n",
    "\n"
   ]
  },
  {
   "cell_type": "code",
   "execution_count": 15,
   "metadata": {
    "colab": {
     "base_uri": "https://localhost:8080/",
     "height": 282
    },
    "executionInfo": {
     "elapsed": 842,
     "status": "error",
     "timestamp": 1610730103159,
     "user": {
      "displayName": "Benedictus Steven",
      "photoUrl": "https://lh3.googleusercontent.com/a-/AOh14GiuOtMcCt1mfibKaHFZ9RDz0nN3TC17MD-JdjtWzw=s64",
      "userId": "16644399497539686920"
     },
     "user_tz": -420
    },
    "id": "epmNuviLAscr",
    "outputId": "d0d98148-9046-4401-ed01-57ef522cc207"
   },
   "outputs": [
    {
     "name": "stdout",
     "output_type": "stream",
     "text": [
      "-0.7089838365853909\n",
      "[[ 1.         -0.70898384]\n",
      " [-0.70898384  1.        ]]\n",
      "-0.7089838365853888\n"
     ]
    }
   ],
   "source": [
    "#Hitung correlation coefficient 'area' dan 'malignant' menggunakan python saja, numpy, dan scipy\n",
    "var_malignant = sum((item - mean_malignant)**2 for item in malignant) / (n - 1)\n",
    "std_malignant = var_malignant ** 0.5\n",
    "corr_python = cov_python / (std_python * std_malignant)\n",
    "print(corr_python)\n",
    "\n",
    "corr_numpy = np.corrcoef(area, malignant)\n",
    "print(corr_numpy)\n",
    "\n",
    "scipy = scipy.stats.linregress(area, malignant)\n",
    "corr_scipy = scipy.rvalue\n",
    "print(corr_scipy)\n"
   ]
  },
  {
   "cell_type": "markdown",
   "metadata": {
    "id": "76PzM9NWpj9m"
   },
   "source": [
    "Expected output:\n",
    "\n",
    "```\n",
    "-0.7089838365853909\n",
    "[[ 1.         -0.70898384]\n",
    " [-0.70898384  1.        ]]\n",
    "-0.70898383658539\n",
    "```\n",
    "\n"
   ]
  },
  {
   "cell_type": "code",
   "execution_count": 16,
   "metadata": {
    "id": "PcK4waRnBQKc"
   },
   "outputs": [
    {
     "ename": "AttributeError",
     "evalue": "'LinregressResult' object has no attribute 'stats'",
     "output_type": "error",
     "traceback": [
      "\u001b[1;31m---------------------------------------------------------------------------\u001b[0m",
      "\u001b[1;31mAttributeError\u001b[0m                            Traceback (most recent call last)",
      "\u001b[1;32m<ipython-input-16-d930b4c32f2e>\u001b[0m in \u001b[0;36m<module>\u001b[1;34m\u001b[0m\n\u001b[0;32m      1\u001b[0m \u001b[1;31m#Hitung p-value dari 'area' dan 'malignant' menggunakan scipy pearsonr dan linregress\u001b[0m\u001b[1;33m\u001b[0m\u001b[1;33m\u001b[0m\u001b[1;33m\u001b[0m\u001b[0m\n\u001b[0;32m      2\u001b[0m \u001b[1;33m\u001b[0m\u001b[0m\n\u001b[1;32m----> 3\u001b[1;33m \u001b[0mp_pearsonr\u001b[0m \u001b[1;33m=\u001b[0m \u001b[0mscipy\u001b[0m\u001b[1;33m.\u001b[0m\u001b[0mstats\u001b[0m\u001b[1;33m.\u001b[0m\u001b[0mpearsonr\u001b[0m\u001b[1;33m(\u001b[0m\u001b[0marea\u001b[0m\u001b[1;33m,\u001b[0m \u001b[0mmalignant\u001b[0m\u001b[1;33m)\u001b[0m\u001b[1;33m\u001b[0m\u001b[1;33m\u001b[0m\u001b[0m\n\u001b[0m\u001b[0;32m      4\u001b[0m \u001b[0mprint\u001b[0m\u001b[1;33m(\u001b[0m\u001b[0mp_pearsonr\u001b[0m\u001b[1;33m)\u001b[0m\u001b[1;33m\u001b[0m\u001b[1;33m\u001b[0m\u001b[0m\n\u001b[0;32m      5\u001b[0m \u001b[1;33m\u001b[0m\u001b[0m\n",
      "\u001b[1;31mAttributeError\u001b[0m: 'LinregressResult' object has no attribute 'stats'"
     ]
    }
   ],
   "source": [
    "#Hitung p-value dari 'area' dan 'malignant' menggunakan scipy pearsonr dan linregress\n",
    "\n",
    "p_pearsonr = scipy.stats.pearsonr(area, malignant)\n",
    "print(p_pearsonr)\n",
    "\n",
    "p = scipy.stats.linregress(area, malignant)\n",
    "p_linregress = p.pvalue\n",
    "print(p_linregress)\n"
   ]
  },
  {
   "cell_type": "markdown",
   "metadata": {
    "id": "H-CWhllLp5vI"
   },
   "source": [
    "Expected output:\n",
    "```\n",
    "4.734564310304486e-88\n",
    "4.734564310310984e-88\n",
    "```\n",
    "\n"
   ]
  },
  {
   "cell_type": "markdown",
   "metadata": {
    "id": "mpkuv7s1B1f9"
   },
   "source": [
    "Apa kesimpulan yang dapat diambil dari nilai koefisien korelasi antara 'area' dengan 'malignant'?"
   ]
  },
  {
   "cell_type": "markdown",
   "metadata": {
    "id": "4GkQ-rg6CJl_"
   },
   "source": [
    "Jawab: cukup kuat dan berbanding terbalik"
   ]
  }
 ],
 "metadata": {
  "colab": {
   "collapsed_sections": [],
   "name": "Tugas_Hari_5_stevenbenedictus@gmail.com.ipynb",
   "provenance": []
  },
  "kernelspec": {
   "display_name": "Python 3",
   "language": "python",
   "name": "python3"
  }
 },
 "nbformat": 4,
 "nbformat_minor": 1
}
